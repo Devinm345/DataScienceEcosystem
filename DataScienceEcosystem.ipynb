{
 "cells": [
  {
   "cell_type": "markdown",
   "id": "c994d9d5-d0f5-45be-99c8-ca2d23fdf5a4",
   "metadata": {},
   "source": [
    "# Data Science Tools and Ecosystem"
   ]
  },
  {
   "cell_type": "markdown",
   "id": "a742ec88-c966-4bbd-ab29-7ce24396678a",
   "metadata": {},
   "source": [
    "# 3. In this notebook, Data Science Tools and Ecosystem are summarized."
   ]
  },
  {
   "cell_type": "markdown",
   "id": "cffee47a-4019-4b29-ad83-4a978b38be3d",
   "metadata": {},
   "source": [
    "# 4. Some of the popular languages that Data Scientists use are:\n",
    "### 1. Python\n",
    "### 2. R\n",
    "### 3. SQL"
   ]
  },
  {
   "cell_type": "markdown",
   "id": "1346c2f7-9aaa-453e-9332-43c12ae29b3d",
   "metadata": {},
   "source": [
    "Some of the commonly used libraries used by Data Scientists include:\r\n",
    "1. Pandas\r\n",
    "2. NumPy\r\n",
    "3. Scikit-learn\r\n"
   ]
  },
  {
   "cell_type": "markdown",
   "id": "13de0b9d-c35b-423a-882e-15adbe2499e7",
   "metadata": {},
   "source": [
    "| Data Science Tools |\n",
    "|--------------------|\n",
    "| Jupyter Notebook   |\n",
    "| RStudio            |\n",
    "| Apache Zeppelin    |\n"
   ]
  },
  {
   "cell_type": "markdown",
   "id": "9307aa24-5f73-43cf-9c36-9d3937c396f6",
   "metadata": {},
   "source": [
    "### Below are a few examples of evaluating arithmetic expressions in Python.\r\n"
   ]
  },
  {
   "cell_type": "code",
   "execution_count": 2,
   "id": "0688b357-5855-4757-915e-2ffd4968ec55",
   "metadata": {},
   "outputs": [
    {
     "data": {
      "text/plain": [
       "17"
      ]
     },
     "execution_count": 2,
     "metadata": {},
     "output_type": "execute_result"
    }
   ],
   "source": [
    "# This a simple arithmetic expression to multiply then add integers\n",
    "(3 * 4) + 5"
   ]
  },
  {
   "cell_type": "code",
   "execution_count": 4,
   "id": "aeeaf182-c3d1-47f8-a7b1-28b3b3381dc2",
   "metadata": {},
   "outputs": [
    {
     "data": {
      "text/plain": [
       "3.3333333333333335"
      ]
     },
     "execution_count": 4,
     "metadata": {},
     "output_type": "execute_result"
    }
   ],
   "source": [
    "# This will convert 200 minutes to hours by dividing by 60\n",
    "200 / 60\n"
   ]
  },
  {
   "cell_type": "markdown",
   "id": "f60c3f0d-7c66-4502-b285-b149659e263a",
   "metadata": {},
   "source": [
    "**Objectives:**\r\n",
    "- List popular languages for Data Science\r\n",
    "- Identify commonly used libraries in Data Science\r\n",
    "- Describe development environment tools used in Data Science\r\n",
    "- Demonstrate simple arithmetic operations in Python\r\n",
    "- Convert time units within Python\r\n"
   ]
  },
  {
   "cell_type": "markdown",
   "id": "84cbdb48-6777-417b-9e5c-bb2eba82c0b7",
   "metadata": {},
   "source": [
    "# Author\n",
    "Devin M"
   ]
  },
  {
   "cell_type": "code",
   "execution_count": null,
   "id": "2b45b4fb-62f5-433e-8c47-64c3be2b9c17",
   "metadata": {},
   "outputs": [],
   "source": []
  }
 ],
 "metadata": {
  "kernelspec": {
   "display_name": "Python 3 (ipykernel)",
   "language": "python",
   "name": "python3"
  },
  "language_info": {
   "codemirror_mode": {
    "name": "ipython",
    "version": 3
   },
   "file_extension": ".py",
   "mimetype": "text/x-python",
   "name": "python",
   "nbconvert_exporter": "python",
   "pygments_lexer": "ipython3",
   "version": "3.11.5"
  }
 },
 "nbformat": 4,
 "nbformat_minor": 5
}
